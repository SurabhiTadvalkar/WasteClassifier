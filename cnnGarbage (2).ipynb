{
 "cells": [
  {
   "cell_type": "code",
   "execution_count": 1,
   "metadata": {},
   "outputs": [],
   "source": [
    "import opendatasets as od"
   ]
  },
  {
   "cell_type": "code",
   "execution_count": 3,
   "metadata": {},
   "outputs": [
    {
     "name": "stdout",
     "output_type": "stream",
     "text": [
      "Please provide your Kaggle credentials to download this dataset. Learn more: http://bit.ly/kaggle-creds\n",
      "Your Kaggle username:"
     ]
    },
    {
     "name": "stdin",
     "output_type": "stream",
     "text": [
      "  surabhitadvalkar\n"
     ]
    },
    {
     "name": "stdout",
     "output_type": "stream",
     "text": [
      "Your Kaggle Key:"
     ]
    },
    {
     "name": "stdin",
     "output_type": "stream",
     "text": [
      "  ································\n"
     ]
    },
    {
     "name": "stdout",
     "output_type": "stream",
     "text": [
      "Downloading waste-classification-data.zip to .\\waste-classification-data\n"
     ]
    },
    {
     "name": "stderr",
     "output_type": "stream",
     "text": [
      "100%|██████████| 427M/427M [02:02<00:00, 3.66MB/s] \n"
     ]
    },
    {
     "name": "stdout",
     "output_type": "stream",
     "text": [
      "\n"
     ]
    }
   ],
   "source": [
    "od.download(\"https://www.kaggle.com/datasets/techsash/waste-classification-data\")"
   ]
  },
  {
   "cell_type": "code",
   "execution_count": 4,
   "metadata": {},
   "outputs": [],
   "source": [
    "import math\n",
    "import numpy as np\n",
    "import h5py\n",
    "import matplotlib.pyplot as plt\n",
    "from matplotlib.pyplot import imread\n",
    "import scipy\n",
    "from PIL import Image\n",
    "import pandas as pd\n",
    "import tensorflow as tf\n",
    "import tensorflow.keras.layers as tfl\n",
    "from tensorflow.python.framework import ops\n",
    "from tensorflow.keras.models import Sequential\n",
    "from tensorflow.keras.layers import Conv2D, MaxPooling2D, Dense, Flatten, Dropout\n",
    "import os\n",
    "%matplotlib inline\n",
    "np.random.seed(1)"
   ]
  },
  {
   "cell_type": "code",
   "execution_count": 5,
   "metadata": {},
   "outputs": [
    {
     "data": {
      "text/plain": [
       "'C:\\\\Users\\\\surab\\\\Rose_Hack_2023'"
      ]
     },
     "execution_count": 5,
     "metadata": {},
     "output_type": "execute_result"
    }
   ],
   "source": [
    "os.getcwd()"
   ]
  },
  {
   "cell_type": "code",
   "execution_count": 6,
   "metadata": {},
   "outputs": [
    {
     "name": "stdout",
     "output_type": "stream",
     "text": [
      "Found 22564 files belonging to 2 classes.\n"
     ]
    }
   ],
   "source": [
    "# data_dir = \"TRAIN\"\n",
    "# os.listdir(os.path.join(data_dir, \"O\"))\n",
    "# Step 1: Load Dataset\n",
    "dataset = tf.keras.utils.image_dataset_from_directory(\"waste-classification-data/DATASET/TRAIN\")"
   ]
  },
  {
   "cell_type": "markdown",
   "metadata": {},
   "source": [
    "Preprocessing Data\n"
   ]
  },
  {
   "cell_type": "code",
   "execution_count": 7,
   "metadata": {},
   "outputs": [],
   "source": [
    "# Step 2 Scale the dataset\n",
    "dataset = dataset.map(lambda x,y: (x/255, y))\n",
    "# Allows for data to be processed while it is being processed (While it is in the pipeline). Speeds up how fast we can access data from out disk."
   ]
  },
  {
   "cell_type": "code",
   "execution_count": 8,
   "metadata": {},
   "outputs": [
    {
     "name": "stdout",
     "output_type": "stream",
     "text": [
      "706\n"
     ]
    }
   ],
   "source": [
    "print(len(dataset))\n",
    "training_size = int(len(dataset)*.7)\n",
    "validation_size = int(len(dataset)*.2)\n",
    "testing_size = int(len(dataset)*.1) + 1"
   ]
  },
  {
   "cell_type": "code",
   "execution_count": 9,
   "metadata": {},
   "outputs": [],
   "source": [
    "training = dataset.take(training_size)\n",
    "validation = dataset.skip(training_size).take(validation_size)\n",
    "testing = dataset.skip(training_size + validation_size).take(testing_size)"
   ]
  },
  {
   "cell_type": "code",
   "execution_count": null,
   "metadata": {},
   "outputs": [],
   "source": []
  },
  {
   "cell_type": "code",
   "execution_count": 10,
   "metadata": {},
   "outputs": [],
   "source": [
    "# Get another batch from the iterator\n",
    "# batch = scaled_iterator.next()"
   ]
  },
  {
   "cell_type": "code",
   "execution_count": 11,
   "metadata": {},
   "outputs": [],
   "source": [
    "# fig, ax = plt.subplots(ncols = 4, figsize=(20,20))\n",
    "# for index, image in enumerate(batch[0][:4]):\n",
    "#     ax[index].imshow(image)\n",
    "#     ax[index].title.set_text(batch[1][index])\n",
    "\n",
    "# Class 0: Organic Waste\n",
    "# Class 1: Recyclable Waste"
   ]
  },
  {
   "cell_type": "code",
   "execution_count": 12,
   "metadata": {},
   "outputs": [],
   "source": [
    "# Images represented as numpy arrays\n",
    "# batch[0].max()"
   ]
  },
  {
   "cell_type": "code",
   "execution_count": 13,
   "metadata": {},
   "outputs": [],
   "source": [
    "model = Sequential()"
   ]
  },
  {
   "cell_type": "code",
   "execution_count": 14,
   "metadata": {},
   "outputs": [],
   "source": [
    "model.add(Conv2D(filters = 16, kernel_size=(3,3), strides = (1,1), activation = 'relu', input_shape= (256, 256, 3), padding = 'same'))\n",
    "model.add(MaxPooling2D())\n",
    "\n",
    "model.add(Conv2D(filters = 32, kernel_size=(3,3), strides = (1,1), activation = 'relu'))\n",
    "model.add(MaxPooling2D())\n",
    "\n",
    "model.add(Conv2D(filters = 64, kernel_size=(3,3), strides = (1,1), activation = 'relu'))\n",
    "model.add(MaxPooling2D())\n",
    "\n",
    "model.add(Flatten())\n",
    "\n",
    "model.add(Dense(256, activation='relu'))\n",
    "model.add(Dense(1, activation='sigmoid'))"
   ]
  },
  {
   "cell_type": "code",
   "execution_count": 15,
   "metadata": {},
   "outputs": [
    {
     "name": "stdout",
     "output_type": "stream",
     "text": [
      "Model: \"sequential\"\n",
      "_________________________________________________________________\n",
      " Layer (type)                Output Shape              Param #   \n",
      "=================================================================\n",
      " conv2d (Conv2D)             (None, 256, 256, 16)      448       \n",
      "                                                                 \n",
      " max_pooling2d (MaxPooling2D  (None, 128, 128, 16)     0         \n",
      " )                                                               \n",
      "                                                                 \n",
      " conv2d_1 (Conv2D)           (None, 126, 126, 32)      4640      \n",
      "                                                                 \n",
      " max_pooling2d_1 (MaxPooling  (None, 63, 63, 32)       0         \n",
      " 2D)                                                             \n",
      "                                                                 \n",
      " conv2d_2 (Conv2D)           (None, 61, 61, 64)        18496     \n",
      "                                                                 \n",
      " max_pooling2d_2 (MaxPooling  (None, 30, 30, 64)       0         \n",
      " 2D)                                                             \n",
      "                                                                 \n",
      " flatten (Flatten)           (None, 57600)             0         \n",
      "                                                                 \n",
      " dense (Dense)               (None, 256)               14745856  \n",
      "                                                                 \n",
      " dense_1 (Dense)             (None, 1)                 257       \n",
      "                                                                 \n",
      "=================================================================\n",
      "Total params: 14,769,697\n",
      "Trainable params: 14,769,697\n",
      "Non-trainable params: 0\n",
      "_________________________________________________________________\n"
     ]
    }
   ],
   "source": [
    "model.compile('adam', loss = tf.losses.BinaryCrossentropy(), metrics=['accuracy'])\n",
    "model.summary()"
   ]
  },
  {
   "cell_type": "code",
   "execution_count": 16,
   "metadata": {},
   "outputs": [],
   "source": [
    "logDirectory = 'LOGS'\n",
    "tensorboard_callback = tf.keras.callbacks.TensorBoard(log_dir= logDirectory)"
   ]
  },
  {
   "cell_type": "code",
   "execution_count": 17,
   "metadata": {},
   "outputs": [
    {
     "name": "stdout",
     "output_type": "stream",
     "text": [
      "Epoch 1/10\n",
      "494/494 [==============================] - 626s 1s/step - loss: 0.4364 - accuracy: 0.8101 - val_loss: 0.4344 - val_accuracy: 0.7981\n",
      "Epoch 2/10\n",
      "494/494 [==============================] - 598s 1s/step - loss: 0.3632 - accuracy: 0.8460 - val_loss: 0.3662 - val_accuracy: 0.8380\n",
      "Epoch 3/10\n",
      "494/494 [==============================] - 798s 2s/step - loss: 0.3201 - accuracy: 0.8665 - val_loss: 0.3662 - val_accuracy: 0.8488\n",
      "Epoch 4/10\n",
      "494/494 [==============================] - 576s 1s/step - loss: 0.2705 - accuracy: 0.8913 - val_loss: 0.3951 - val_accuracy: 0.8422\n",
      "Epoch 5/10\n",
      "494/494 [==============================] - 583s 1s/step - loss: 0.1972 - accuracy: 0.9238 - val_loss: 0.4018 - val_accuracy: 0.8500\n",
      "Epoch 6/10\n",
      "494/494 [==============================] - 534s 1s/step - loss: 0.1298 - accuracy: 0.9536 - val_loss: 0.4982 - val_accuracy: 0.8402\n",
      "Epoch 7/10\n",
      "494/494 [==============================] - 516s 1s/step - loss: 0.0946 - accuracy: 0.9657 - val_loss: 0.5824 - val_accuracy: 0.8515\n",
      "Epoch 8/10\n",
      "494/494 [==============================] - 752s 2s/step - loss: 0.0517 - accuracy: 0.9835 - val_loss: 0.8053 - val_accuracy: 0.8524\n",
      "Epoch 9/10\n",
      "494/494 [==============================] - 647s 1s/step - loss: 0.0414 - accuracy: 0.9876 - val_loss: 0.7309 - val_accuracy: 0.8446\n",
      "Epoch 10/10\n",
      "494/494 [==============================] - 591s 1s/step - loss: 0.0369 - accuracy: 0.9891 - val_loss: 1.1624 - val_accuracy: 0.8271\n"
     ]
    }
   ],
   "source": [
    "history = model.fit(training, epochs=10, validation_data=validation, callbacks=[tensorboard_callback])"
   ]
  },
  {
   "cell_type": "code",
   "execution_count": 19,
   "metadata": {},
   "outputs": [
    {
     "data": {
      "image/png": "[encoded data removed]",
      "text/plain": [
       "<Figure size 432x288 with 1 Axes>"
      ]
     },
     "metadata": {
      "needs_background": "light"
     },
     "output_type": "display_data"
    }
   ],
   "source": [
    "fig, ax = plt.subplots()\n",
    "ax.plot(history.history['accuracy'], label = 'accuracy')\n",
    "ax.plot(history.history['val_accuracy'], label = 'val_accuracy')\n",
    "leg = ax.legend();"
   ]
  },
  {
   "cell_type": "code",
   "execution_count": 20,
   "metadata": {},
   "outputs": [
    {
     "data": {
      "image/png": "[encoded data removed]",
      "text/plain": [
       "<Figure size 432x288 with 1 Axes>"
      ]
     },
     "metadata": {
      "needs_background": "light"
     },
     "output_type": "display_data"
    }
   ],
   "source": [
    "fig, ax = plt.subplots()\n",
    "ax.plot(history.history['loss'], label = 'loss')\n",
    "ax.plot(history.history['val_loss'], label = 'val_loss')\n",
    "leg = ax.legend();"
   ]
  },
  {
   "cell_type": "code",
   "execution_count": null,
   "metadata": {},
   "outputs": [],
   "source": []
  }
 ],
 "metadata": {
  "kernelspec": {
   "display_name": "Python 3 (ipykernel)",
   "language": "python",
   "name": "python3"
  },
  "language_info": {
   "codemirror_mode": {
    "name": "ipython",
    "version": 3
   },
   "file_extension": ".py",
   "mimetype": "text/x-python",
   "name": "python",
   "nbconvert_exporter": "python",
   "pygments_lexer": "ipython3",
   "version": "3.9.7"
  },
  "vscode": {
   "interpreter": {
    "hash": "36a0d8ae7ea53d0c2bb98a357b7e4d666f857d54e9cfe25daaf029ef2b61f7f5"
   }
  }
 },
 "nbformat": 4,
 "nbformat_minor": 4
}
